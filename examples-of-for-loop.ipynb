{
 "cells": [
  {
   "cell_type": "markdown",
   "metadata": {},
   "source": [
    "## 生日問題"
   ]
  },
  {
   "cell_type": "code",
   "execution_count": 4,
   "metadata": {},
   "outputs": [],
   "source": [
    "def sameBirthdayProbability(n):\n",
    "    \n",
    "    probabilityNoSame = 1\n",
    "    for i in range(n):\n",
    "        probabilityNoSame *= (365 - i) / 365\n",
    "\n",
    "    probability = 1 - probabilityNoSame\n",
    "    return probability"
   ]
  },
  {
   "cell_type": "code",
   "execution_count": 5,
   "metadata": {},
   "outputs": [
    {
     "name": "stdout",
     "output_type": "stream",
     "text": [
      "Probability of 1 people having at least one same birthday is: 0.0\n",
      "Probability of 2 people having at least one same birthday is: 0.002739726027397249\n",
      "Probability of 3 people having at least one same birthday is: 0.008204165884781345\n",
      "Probability of 4 people having at least one same birthday is: 0.016355912466550215\n",
      "Probability of 5 people having at least one same birthday is: 0.02713557369979347\n",
      "Probability of 6 people having at least one same birthday is: 0.040462483649111425\n",
      "Probability of 7 people having at least one same birthday is: 0.056235703095975365\n",
      "Probability of 8 people having at least one same birthday is: 0.07433529235166902\n",
      "Probability of 9 people having at least one same birthday is: 0.09462383388916673\n",
      "Probability of 10 people having at least one same birthday is: 0.11694817771107768\n",
      "Probability of 11 people having at least one same birthday is: 0.14114137832173312\n",
      "Probability of 12 people having at least one same birthday is: 0.1670247888380645\n",
      "Probability of 13 people having at least one same birthday is: 0.19441027523242949\n",
      "Probability of 14 people having at least one same birthday is: 0.2231025120049731\n",
      "Probability of 15 people having at least one same birthday is: 0.25290131976368646\n",
      "Probability of 16 people having at least one same birthday is: 0.2836040052528501\n",
      "Probability of 17 people having at least one same birthday is: 0.3150076652965609\n",
      "Probability of 18 people having at least one same birthday is: 0.3469114178717896\n",
      "Probability of 19 people having at least one same birthday is: 0.37911852603153695\n",
      "Probability of 20 people having at least one same birthday is: 0.41143838358058027\n",
      "Probability of 21 people having at least one same birthday is: 0.443688335165206\n",
      "Probability of 22 people having at least one same birthday is: 0.4756953076625503\n",
      "Probability of 23 people having at least one same birthday is: 0.5072972343239857\n",
      "Probability of 24 people having at least one same birthday is: 0.538344257914529\n",
      "Probability of 25 people having at least one same birthday is: 0.568699703969464\n",
      "Probability of 26 people having at least one same birthday is: 0.598240820135939\n",
      "Probability of 27 people having at least one same birthday is: 0.6268592822632421\n",
      "Probability of 28 people having at least one same birthday is: 0.6544614723423995\n",
      "Probability of 29 people having at least one same birthday is: 0.6809685374777771\n",
      "Probability of 30 people having at least one same birthday is: 0.7063162427192688\n"
     ]
    }
   ],
   "source": [
    "for i in range(1, 30+1):\n",
    "    print(\"Probability of\", i, \"people having at least one same birthday is:\", sameBirthdayProbability(i))"
   ]
  },
  {
   "cell_type": "markdown",
   "metadata": {},
   "source": [
    "## 一元二次方程式的解"
   ]
  },
  {
   "cell_type": "code",
   "execution_count": 1,
   "metadata": {},
   "outputs": [],
   "source": [
    "def solveQuadraticEquation(a, b, c):\n",
    "    result1 = (- b + (b ** 2 - 4 * a * c) ** (1/2)) / (2 * a)\n",
    "    result2 = (- b - (b ** 2 - 4 * a * c) ** (1/2)) / (2 * a)\n",
    "    return result1, result2"
   ]
  },
  {
   "cell_type": "code",
   "execution_count": 2,
   "metadata": {},
   "outputs": [
    {
     "data": {
      "text/plain": [
       "(1.0, -3.0)"
      ]
     },
     "execution_count": 2,
     "metadata": {},
     "output_type": "execute_result"
    }
   ],
   "source": [
    "solveQuadraticEquation(1, 2, -3)"
   ]
  },
  {
   "cell_type": "code",
   "execution_count": 3,
   "metadata": {},
   "outputs": [
    {
     "data": {
      "text/plain": [
       "(2020.0, 0.020199999999931606)"
      ]
     },
     "execution_count": 3,
     "metadata": {},
     "output_type": "execute_result"
    }
   ],
   "source": [
    "solveQuadraticEquation(1, -2020.0202, 40.804)"
   ]
  },
  {
   "cell_type": "markdown",
   "metadata": {},
   "source": [
    "## 等差級數"
   ]
  },
  {
   "cell_type": "code",
   "execution_count": 6,
   "metadata": {},
   "outputs": [],
   "source": [
    "def series(a0, d, n):\n",
    "    \n",
    "    # 從首項開始加入每一項的數字\n",
    "    sequence = []\n",
    "    for i in range(n):\n",
    "        sequence.append(a0 + i * d)\n",
    "\n",
    "    # 加總各個數字\n",
    "    summation = 0\n",
    "    for item in sequence:\n",
    "        summation += item\n",
    "    \n",
    "    return summation"
   ]
  },
  {
   "cell_type": "code",
   "execution_count": 7,
   "metadata": {},
   "outputs": [
    {
     "data": {
      "text/plain": [
       "370"
      ]
     },
     "execution_count": 7,
     "metadata": {},
     "output_type": "execute_result"
    }
   ],
   "source": [
    "series(1, 8, 10)"
   ]
  },
  {
   "cell_type": "markdown",
   "metadata": {},
   "source": [
    "## 相關係數"
   ]
  },
  {
   "cell_type": "code",
   "execution_count": 8,
   "metadata": {},
   "outputs": [],
   "source": [
    "def correlation(data):\n",
    "    x_sum = 0\n",
    "    y_sum = 0\n",
    "    for i in range(len(data)):\n",
    "        x_sum += data[i][0]\n",
    "        y_sum += data[i][1]\n",
    "    x_mean = x_sum / len(data)\n",
    "    y_mean = y_sum / len(data)\n",
    "    x_var = 0\n",
    "    y_var = 0\n",
    "    xy_cor = 0\n",
    "    for i in range(len(data)):\n",
    "        x_var += (data[i][0] - x_mean)**2\n",
    "        y_var += (data[i][1] - y_mean)**2\n",
    "        xy_cor += (data[i][0] - x_mean) * (data[i][1] - y_mean)\n",
    "    x_var /= len(data)\n",
    "    y_var /= len(data)\n",
    "    x_var = x_var**(0.5)\n",
    "    y_var = y_var**(0.5)\n",
    "    xy_cor /= len(data)\n",
    "    xy_cor /= x_var * y_var\n",
    "    return xy_cor"
   ]
  },
  {
   "cell_type": "code",
   "execution_count": 9,
   "metadata": {},
   "outputs": [
    {
     "data": {
      "text/plain": [
       "0.9844951849708403"
      ]
     },
     "execution_count": 9,
     "metadata": {},
     "output_type": "execute_result"
    }
   ],
   "source": [
    "cor = correlation([(1, 2), (2, 4), (7, 8), (5, 6)])\n",
    "cor"
   ]
  }
 ],
 "metadata": {
  "kernelspec": {
   "display_name": "Python 3",
   "language": "python",
   "name": "python3"
  },
  "language_info": {
   "codemirror_mode": {
    "name": "ipython",
    "version": 3
   },
   "file_extension": ".py",
   "mimetype": "text/x-python",
   "name": "python",
   "nbconvert_exporter": "python",
   "pygments_lexer": "ipython3",
   "version": "3.6.4"
  }
 },
 "nbformat": 4,
 "nbformat_minor": 2
}
