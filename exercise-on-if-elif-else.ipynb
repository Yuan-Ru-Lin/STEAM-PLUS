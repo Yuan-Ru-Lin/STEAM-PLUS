{
 "cells": [
  {
   "cell_type": "markdown",
   "metadata": {},
   "source": [
    "## 流程控制練習：`if-elif-else`"
   ]
  },
  {
   "cell_type": "markdown",
   "metadata": {},
   "source": [
    "### 布林值（bool）資料型態\n",
    "\n",
    "Python 能夠幫我們判斷命題的真假值，比方："
   ]
  },
  {
   "cell_type": "code",
   "execution_count": 7,
   "metadata": {},
   "outputs": [
    {
     "name": "stdout",
     "output_type": "stream",
     "text": [
      "Is one plus one equal to two?\n",
      "True\n",
      "Is 7 divisible by 2?\n",
      "False\n"
     ]
    }
   ],
   "source": [
    "print(\"Is one plus one equal to two?\")\n",
    "print(1 + 1 == 2)\n",
    "\n",
    "print(\"Is 7 divisible by 2?\")\n",
    "print(7 % 2 == 0)"
   ]
  },
  {
   "cell_type": "markdown",
   "metadata": {},
   "source": [
    "其中的，`True` 和 `False` 在 Python 是屬於布林值（`bool`）的資料型態："
   ]
  },
  {
   "cell_type": "code",
   "execution_count": 3,
   "metadata": {},
   "outputs": [
    {
     "name": "stdout",
     "output_type": "stream",
     "text": [
      "The type of True is: <class 'bool'>\n",
      "The type of False is: <class 'bool'>\n"
     ]
    }
   ],
   "source": [
    "print(\"The type of True is:\", type(True))\n",
    "print(\"The type of False is:\", type(False))"
   ]
  },
  {
   "cell_type": "markdown",
   "metadata": {},
   "source": [
    "### 布林值間的運算\n",
    "\n",
    "如同整數 `int` 之間有 `+`、`-` 等等的運算，布林值之間也能進行運算。\n",
    "\n",
    "回想數理邏輯中的「或」。我們知道：\n",
    "\n",
    "1. 真或真 為 真\n",
    "1. 真或假 為 真\n",
    "4. 假或真 為 真\n",
    "3. 假或假 為 假\n",
    "\n",
    "以 Python 的語法而言，我們能夠將上述的語句改寫成："
   ]
  },
  {
   "cell_type": "code",
   "execution_count": 19,
   "metadata": {},
   "outputs": [
    {
     "name": "stdout",
     "output_type": "stream",
     "text": [
      "True or True is: True\n",
      "True or False is: True\n",
      "False or True is: True\n",
      "False or False is: False\n"
     ]
    }
   ],
   "source": [
    "print(\"True or True is:\", True or True)\n",
    "print(\"True or False is:\", True or False)\n",
    "print(\"False or True is:\", False or True)\n",
    "print(\"False or False is:\", False or False)"
   ]
  },
  {
   "cell_type": "markdown",
   "metadata": {},
   "source": [
    "#### 小練習：「且」運算的真值表"
   ]
  },
  {
   "cell_type": "markdown",
   "metadata": {},
   "source": [
    "請同學練習將「且」運算的版本印出來："
   ]
  },
  {
   "cell_type": "markdown",
   "metadata": {},
   "source": [
    "<div class=\"alert alert-block alert-info\">\n",
    "    <b>提示：</b> Python 中代表「且」的運算為 <code>and</code>。\n",
    "</div>"
   ]
  },
  {
   "cell_type": "code",
   "execution_count": null,
   "metadata": {},
   "outputs": [],
   "source": [
    "# 在以下作答\n",
    "\n"
   ]
  },
  {
   "cell_type": "markdown",
   "metadata": {},
   "source": [
    "<details><summary>參考答案</summary>\n",
    "Input:<br>\n",
    "<code>print(\"True and True is:\", True and True)\n",
    "print(\"True and False is:\", True and False)\n",
    "print(\"False and True is:\", False and Trube)\n",
    "print(\"False and False is:\", False and False)</code><br>\n",
    "Output:<br>\n",
    "<code>True and True is: True\n",
    "True and False is: False\n",
    "False and True is: False\n",
    "False and False is: False</code>\n",
    "</details>"
   ]
  },
  {
   "cell_type": "markdown",
   "metadata": {},
   "source": [
    "### 狄摩根定律（De Morgan's laws）\n",
    "\n",
    "狄摩根定律定律是數理邏輯中的一對重要定理，其中一條說明了：\n",
    "\n",
    "若有兩真假值 $p, q$，則：「否定 $p$ 且 $q$」等同於「否定 p 或否定 q」。\n",
    "\n",
    "比方，假設我沒有數學跟國文都及格，則我可能是數學沒有及格，或者是國文沒有及格。\n",
    "\n",
    "假設 `passMath` 代表數學及格、`passChinese` 代表國文及格。請同學在以下的代碼中驗證狄摩根定律："
   ]
  },
  {
   "cell_type": "code",
   "execution_count": null,
   "metadata": {},
   "outputs": [],
   "source": [
    "p = True # 同學可以改動 p, q，驗證所有情況下狄摩根定律都成立\n",
    "q = False\n",
    "\n",
    "print(\"The bool value for not passing both Math and Chinese is:\", ???)\n",
    "print(\"The bool value for not passing Math or not passing Chinese is:\", ???)"
   ]
  },
  {
   "cell_type": "markdown",
   "metadata": {},
   "source": [
    "<details><summary>參考答案</summary>\n",
    "Input <br>\n",
    "<code>print(\"The bool value for not passing both Math and Chinese is:\", not (p and q))\n",
    "print(\"The bool value for not passing Math or not passing Chinese is:\", not p or not q)</code>\n",
    "\n",
    "Output: <br>\n",
    "<code>The bool value for not passing both Math and Chinese is: True\n",
    "The bool value for not passing Math or not passing Chinese is: True</code>\n",
    "</details>"
   ]
  },
  {
   "cell_type": "markdown",
   "metadata": {},
   "source": [
    "***"
   ]
  },
  {
   "cell_type": "markdown",
   "metadata": {},
   "source": [
    "### 費馬小定理\n",
    "\n",
    "> 「數學是科學的皇后，數論是數學的皇后。」——高斯\n",
    "\n",
    "數論（Number Theory）是研究整數的數學分支。由於只關心數字本身的特性（與它們之間的關係），數論常被認為是最為純粹的數學。其中，特別是關於質數特性的研究是最為引人入勝的。\n",
    "\n",
    "一個有關質數的定理是費馬小定理（費馬，1636 年），它說明了：\n",
    "\n",
    "> 給定一質數 $p$ 和任一整數 $a$，則兩數恆有以下關係：\n",
    "> $$a^p \\equiv a \\pmod p.$$\n",
    "\n",
    "一簡單的例子是當 $p=3, a=4$ 時，$a^p = 64 = 21 \\times 3 + 1 \\equiv 4 \\pmod 3$。\n",
    "\n",
    "請同學試著用取餘運算符 `%` 和 `if-else` 語法來驗證費馬小定理。\n",
    "\n",
    "<div class=\"alert alert-block alert-warning\">\n",
    "    <b>小心：</b>輸入的 p 跟 a 越大，計算所需的時間就越長！\n",
    "</div>"
   ]
  },
  {
   "cell_type": "code",
   "execution_count": null,
   "metadata": {},
   "outputs": [],
   "source": [
    "p = int(input())\n",
    "a = int(input())\n",
    "\n",
    "# 修改以下的代碼\n",
    "\n",
    "????\n",
    "print(????) # 在此印出（a 的 p 次方） = p *（商數） + (餘數)\n",
    "print(\"Fermat's Little Theorem is right!\")\n",
    "else:\n",
    "    print(\"Weird! Fermat's Little Theorem does not apply!\")"
   ]
  },
  {
   "cell_type": "markdown",
   "metadata": {},
   "source": [
    "<details>\n",
    "<summary>參考答案</summary>\n",
    "    . . . <br>\n",
    "    <code>if a**p % p == a % p:</code> <br>\n",
    "    <code>    print(a**p, \"=\", p, \"*\", a**p//p, \"+\", a**p % p)</code> <br>\n",
    "    . . . <br>\n",
    "</details>"
   ]
  }
 ],
 "metadata": {
  "hide_input": false,
  "kernelspec": {
   "display_name": "Python 3",
   "language": "python",
   "name": "python3"
  },
  "language_info": {
   "codemirror_mode": {
    "name": "ipython",
    "version": 3
   },
   "file_extension": ".py",
   "mimetype": "text/x-python",
   "name": "python",
   "nbconvert_exporter": "python",
   "pygments_lexer": "ipython3",
   "version": "3.8.1"
  },
  "toc": {
   "base_numbering": 1,
   "nav_menu": {},
   "number_sections": true,
   "sideBar": true,
   "skip_h1_title": false,
   "title_cell": "Table of Contents",
   "title_sidebar": "Contents",
   "toc_cell": false,
   "toc_position": {},
   "toc_section_display": true,
   "toc_window_display": false
  }
 },
 "nbformat": 4,
 "nbformat_minor": 2
}
