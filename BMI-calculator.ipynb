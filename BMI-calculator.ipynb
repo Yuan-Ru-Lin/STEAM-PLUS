{
 "cells": [
  {
   "cell_type": "code",
   "execution_count": 1,
   "metadata": {},
   "outputs": [],
   "source": [
    "import tkinter as tk"
   ]
  },
  {
   "cell_type": "code",
   "execution_count": 2,
   "metadata": {},
   "outputs": [],
   "source": [
    "def onClick():\n",
    "    height = float(myEntry1.get())\n",
    "    weight = float(myEntry2.get())\n",
    "    secondLabel.configure(text=\"Your BMI:\" + str(weight / height**2))"
   ]
  },
  {
   "cell_type": "code",
   "execution_count": 12,
   "metadata": {},
   "outputs": [],
   "source": [
    "window = tk.Tk()\n",
    "window.title(\"BMI calculator\")\n",
    "window.geometry(\"300x200\")\n",
    "\n",
    "myLabel = tk.Label(window, text=\"Input height (m) and weight (kg) to see your BMI:\", bg='#010a43', fg='#FFC2C2')\n",
    "myLabel.pack()\n",
    "\n",
    "height_frame = tk.Frame(window)\n",
    "height_frame.pack()\n",
    "height_label = tk.Label(height_frame, text=\"Input your height (m):\")\n",
    "height_label.pack(side=\"left\")\n",
    "myEntry1 = tk.Entry(height_frame)\n",
    "myEntry1.pack(side=\"left\")\n",
    "\n",
    "weight_frame = tk.Frame(window)\n",
    "weight_frame.pack()\n",
    "weight_label = tk.Label(weight_frame, text=\"Input your weight (kg):\")\n",
    "weight_label.pack(side=\"left\")\n",
    "myEntry2 = tk.Entry(weight_frame)\n",
    "myEntry2.pack(side=\"left\")\n",
    "\n",
    "myButton2 = tk.Button(window, text=\"Press to see your BMI\", command=onClick)\n",
    "myButton2.pack()\n",
    "\n",
    "secondLabel = tk.Label(window, text=\"\")\n",
    "secondLabel.pack()\n",
    "\n",
    "window.mainloop()"
   ]
  },
  {
   "cell_type": "markdown",
   "metadata": {},
   "source": [
    "前端工程"
   ]
  }
 ],
 "metadata": {
  "hide_input": false,
  "kernelspec": {
   "display_name": "Python 3",
   "language": "python",
   "name": "python3"
  },
  "language_info": {
   "codemirror_mode": {
    "name": "ipython",
    "version": 3
   },
   "file_extension": ".py",
   "mimetype": "text/x-python",
   "name": "python",
   "nbconvert_exporter": "python",
   "pygments_lexer": "ipython3",
   "version": "3.8.1"
  },
  "toc": {
   "base_numbering": 1,
   "nav_menu": {},
   "number_sections": true,
   "sideBar": true,
   "skip_h1_title": false,
   "title_cell": "Table of Contents",
   "title_sidebar": "Contents",
   "toc_cell": false,
   "toc_position": {},
   "toc_section_display": true,
   "toc_window_display": false
  }
 },
 "nbformat": 4,
 "nbformat_minor": 4
}
