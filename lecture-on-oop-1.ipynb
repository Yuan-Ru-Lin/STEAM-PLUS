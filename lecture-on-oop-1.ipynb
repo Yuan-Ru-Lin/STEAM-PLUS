{
 "cells": [
  {
   "cell_type": "markdown",
   "metadata": {},
   "source": [
    "# Object-oriented programming"
   ]
  },
  {
   "cell_type": "code",
   "execution_count": 46,
   "metadata": {},
   "outputs": [],
   "source": [
    "class Student:\n",
    "    \n",
    "    def __init__(self, name, favorite_discipline):\n",
    "        self.name = name\n",
    "        self.favorite_discipline = favorite_discipline\n",
    "    \n",
    "    def introduce(self):\n",
    "        print(\"Hi, I am \" + self.name + \". I like \" + self.favorite_discipline + \". Nice to meet you!\")"
   ]
  },
  {
   "cell_type": "code",
   "execution_count": 47,
   "metadata": {},
   "outputs": [],
   "source": [
    "wang = Student(\"Wang Xiao-Ming\", \"Math\")"
   ]
  },
  {
   "cell_type": "code",
   "execution_count": 48,
   "metadata": {
    "scrolled": true
   },
   "outputs": [
    {
     "name": "stdout",
     "output_type": "stream",
     "text": [
      "Hi, I am Wang Xiao-Ming. I like Math. Nice to meet you!\n"
     ]
    }
   ],
   "source": [
    "wang.introduce()"
   ]
  },
  {
   "cell_type": "code",
   "execution_count": 49,
   "metadata": {},
   "outputs": [
    {
     "data": {
      "text/plain": [
       "27"
      ]
     },
     "execution_count": 49,
     "metadata": {},
     "output_type": "execute_result"
    }
   ],
   "source": [
    "3 ** 3"
   ]
  },
  {
   "cell_type": "code",
   "execution_count": 22,
   "metadata": {},
   "outputs": [],
   "source": [
    "class Calculator:\n",
    "    \n",
    "    def __init__(self):\n",
    "        self.history = []\n",
    "    \n",
    "    def power(self, x, y):\n",
    "        ans = x ** y\n",
    "        log = str(x) + \" 的 \" + str(y) + \" 次方是 \" + str(ans)\n",
    "        self.history.append(log)\n",
    "        print(log)\n",
    "        return ans\n",
    "\n",
    "    def displayHistory(self):\n",
    "        for event in self.history:\n",
    "            print(event)"
   ]
  },
  {
   "cell_type": "code",
   "execution_count": 23,
   "metadata": {},
   "outputs": [],
   "source": [
    "myCalculator = Calculator()"
   ]
  },
  {
   "cell_type": "code",
   "execution_count": 24,
   "metadata": {},
   "outputs": [
    {
     "name": "stdout",
     "output_type": "stream",
     "text": [
      "3 的 3 次方是 27\n"
     ]
    },
    {
     "data": {
      "text/plain": [
       "27"
      ]
     },
     "execution_count": 24,
     "metadata": {},
     "output_type": "execute_result"
    }
   ],
   "source": [
    "myCalculator.power(3, 3)"
   ]
  },
  {
   "cell_type": "code",
   "execution_count": 26,
   "metadata": {},
   "outputs": [
    {
     "name": "stdout",
     "output_type": "stream",
     "text": [
      "3 的 3 次方是 27\n"
     ]
    }
   ],
   "source": [
    "myCalculator.displayHistory()"
   ]
  },
  {
   "cell_type": "code",
   "execution_count": 41,
   "metadata": {},
   "outputs": [],
   "source": [
    "class Soldier:\n",
    "    \n",
    "    def __init__(self, name, health, power):\n",
    "        self.name = name\n",
    "        self.health = health\n",
    "        self.power = power\n",
    "    \n",
    "    def attack(self, other):\n",
    "        other.health -= self.power\n",
    "        print(self.name, \"attacked\", other.name, self.power, \"points!\")\n",
    "        \n",
    "        if other.health < 0:\n",
    "            print(other.name, \"has been disabled!\")\n",
    "            return\n",
    "        \n",
    "        print(other.name, \"has\", other.health, \"HP left!\")\n",
    "    \n",
    "    def recover(self):\n",
    "        self.health += 5\n",
    "        print(self.name, \"has recovered for a while and has\", self.health, \"HP now.\")"
   ]
  },
  {
   "cell_type": "code",
   "execution_count": 42,
   "metadata": {},
   "outputs": [],
   "source": [
    "wang = Soldier(\"Wang\", 10, 5)\n",
    "lin = Soldier(\"Lin\", 7, 7)"
   ]
  },
  {
   "cell_type": "code",
   "execution_count": 43,
   "metadata": {
    "scrolled": true
   },
   "outputs": [
    {
     "name": "stdout",
     "output_type": "stream",
     "text": [
      "Lin attacked Wang 7 points!\n",
      "Wang has 3 HP left!\n",
      "Lin attacked Wang 7 points!\n",
      "Wang has been disabled!\n"
     ]
    }
   ],
   "source": [
    "lin.attack(wang)\n",
    "lin.attack(wang)"
   ]
  },
  {
   "cell_type": "code",
   "execution_count": null,
   "metadata": {},
   "outputs": [],
   "source": [
    "class Soldier:\n",
    "    \n",
    "    # 在這裡填入建構子該有的要素！\n",
    "    def ???(???, name, health, power):\n",
    "        # 存入建構子得到的參數進物件本身的屬性\n",
    "        ???.name = name\n",
    "        ...\n",
    "\n",
    "    # 在這裡填入每個 class 函式都要有的參數\n",
    "    def introduce(???):\n",
    "        # 讓以下的 print 能印出想要的結果\n",
    "        print(\"我是\", ???)\n",
    "        print(\"我目前的健康指數是\", ???)\n",
    "        print(\"我的攻擊指數是\", ???)\n",
    "\n",
    "lin = ???(\"林\", 10, 5)\n",
    "lin.introduce()"
   ]
  },
  {
   "cell_type": "markdown",
   "metadata": {},
   "source": [
    "試著讓最後一行的結果是 `我是 林 我目前的健康指數是 10 我的攻擊指數是 5`！"
   ]
  }
 ],
 "metadata": {
  "hide_input": false,
  "kernelspec": {
   "display_name": "Python 3",
   "language": "python",
   "name": "python3"
  },
  "language_info": {
   "codemirror_mode": {
    "name": "ipython",
    "version": 3
   },
   "file_extension": ".py",
   "mimetype": "text/x-python",
   "name": "python",
   "nbconvert_exporter": "python",
   "pygments_lexer": "ipython3",
   "version": "3.8.1"
  },
  "toc": {
   "base_numbering": 1,
   "nav_menu": {},
   "number_sections": true,
   "sideBar": true,
   "skip_h1_title": false,
   "title_cell": "Table of Contents",
   "title_sidebar": "Contents",
   "toc_cell": false,
   "toc_position": {},
   "toc_section_display": true,
   "toc_window_display": false
  }
 },
 "nbformat": 4,
 "nbformat_minor": 2
}
