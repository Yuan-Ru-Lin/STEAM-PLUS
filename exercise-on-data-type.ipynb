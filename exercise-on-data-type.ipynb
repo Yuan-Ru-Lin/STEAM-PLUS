{
 "cells": [
  {
   "cell_type": "markdown",
   "metadata": {},
   "source": [
    "## 資料型態練習"
   ]
  },
  {
   "cell_type": "markdown",
   "metadata": {},
   "source": [
    "### 乘法計算機"
   ]
  },
  {
   "cell_type": "markdown",
   "metadata": {},
   "source": [
    "請使用者輸入兩個整數 `x`, `y` 後，印出算式 `x * y = <x*y 的結果>`。比方，如果第一個輸入的是 37，第二個輸入的是 98，則印出 `37 * 98 = 3626`。\n",
    "\n",
    "<div class=\"alert alert-block alert-info\">\n",
    "    <b>提示：</b> 由 <code>input()</code> 函式得到的變數一定是字串型態 <code>str</code>。\n",
    "</div>"
   ]
  },
  {
   "cell_type": "code",
   "execution_count": null,
   "metadata": {},
   "outputs": [],
   "source": [
    "x = ???\n",
    "y = ???\n",
    "print(???) # It should print out, say, \"37 * 98 = 3626.\""
   ]
  },
  {
   "cell_type": "markdown",
   "metadata": {},
   "source": [
    "<details><summary>參考答案</summary>\n",
    "<code>\n",
    "x = input()\n",
    "y = input()\n",
    "print(x, \"*\", y, \"=\", int(x)*int(y))</code>\n",
    "</details>"
   ]
  },
  {
   "cell_type": "markdown",
   "metadata": {},
   "source": [
    "***"
   ]
  },
  {
   "cell_type": "markdown",
   "metadata": {},
   "source": [
    "### 歐拉恆等式\n",
    "\n",
    "Python 除了有整數資料型態 `int` 和浮點數資料型態 `float` 外，也有複數的資料型態 `complex`。\n",
    "\n",
    "而在與複數有關的數學結果中，歐拉恆等式是最為耳熟能詳的：\n",
    "\n",
    "$$e^{i\\pi} + 1 = 0.$$\n",
    "\n",
    "歐拉恆等式涉及了數學中最基本的五個數字：$0, 1, \\pi, i, e$，被譽為是世界上最美的數學式。\n",
    "\n",
    "#### 題目：請同學以單位複數 `1j` 為起點，經過一系列的計算後，得出左式的近似結果。\n",
    "\n",
    "<div class=\"alert alert-block alert-info\">\n",
    "    <b>提示：</b>\n",
    "    <ul>\n",
    "        <li> Python 中的虛數是以 <code>j</code> 表示的。</li>\n",
    "        <li> 你可以用 <code>exp(x)</code> 函式來取得 $e^x$ 的數值。比方 <code>exp(2.1)</code> 會回傳： <code>(8.166169912567652+0j)</code>。</li>\n",
    "        <li> Python 中的科學記號 $a \\times 10^b$ 是以 <code>aeb</code> 表示的。比方 $0.0025 = 2.5 \\times 10^{-3}$ 會表示成 <code>2.5e-3</code>。</li>\n",
    "    </ul>\n",
    "</div>"
   ]
  },
  {
   "cell_type": "code",
   "execution_count": 19,
   "metadata": {},
   "outputs": [],
   "source": [
    "from cmath import exp    # 引入所需函式，此行勿動\n",
    "\n",
    "# 作答區\n",
    "\n",
    "???1j???"
   ]
  },
  {
   "cell_type": "markdown",
   "metadata": {},
   "source": [
    "<details>\n",
    "<summary>參考答案（點擊左側三角形展開）</summary>\n",
    "    Input: <code> exp(3.1415962 * 1j) + 1 </code> <br>\n",
    "    Output: <code>(6.288525256081812e-12-3.5464102067039843e-06j)</code> <br>\n",
    "    答案十分接近 <code>(0+0j)</code>！\n",
    "</details>"
   ]
  }
 ],
 "metadata": {
  "hide_input": false,
  "kernelspec": {
   "display_name": "Python 3",
   "language": "python",
   "name": "python3"
  },
  "language_info": {
   "codemirror_mode": {
    "name": "ipython",
    "version": 3
   },
   "file_extension": ".py",
   "mimetype": "text/x-python",
   "name": "python",
   "nbconvert_exporter": "python",
   "pygments_lexer": "ipython3",
   "version": "3.8.1"
  },
  "toc": {
   "base_numbering": 1,
   "nav_menu": {},
   "number_sections": true,
   "sideBar": true,
   "skip_h1_title": false,
   "title_cell": "Table of Contents",
   "title_sidebar": "Contents",
   "toc_cell": false,
   "toc_position": {},
   "toc_section_display": true,
   "toc_window_display": false
  }
 },
 "nbformat": 4,
 "nbformat_minor": 2
}
