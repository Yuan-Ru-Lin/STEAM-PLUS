{
 "cells": [
  {
   "cell_type": "markdown",
   "metadata": {},
   "source": [
    "## 萊布尼茨公式 Leibniz formula for $\\pi$"
   ]
  },
  {
   "cell_type": "markdown",
   "metadata": {},
   "source": [
    "萊布尼茨證明了有一無窮級數可以用來計算 $\\pi$ 的數值："
   ]
  },
  {
   "cell_type": "markdown",
   "metadata": {},
   "source": [
    "$$1\\,-\\,{\\frac {1}{3}}\\,+\\,{\\frac {1}{5}}\\,-\\,{\\frac {1}{7}}\\,+\\,{\\frac {1}{9}}\\,-\\,\\cdots \\,=\\,{\\frac {\\pi }{4}}.$$"
   ]
  },
  {
   "cell_type": "markdown",
   "metadata": {},
   "source": [
    "試著用 Python 實作出來吧！"
   ]
  },
  {
   "cell_type": "code",
   "execution_count": 10,
   "metadata": {},
   "outputs": [
    {
     "name": "stdout",
     "output_type": "stream",
     "text": [
      "With 1 terms, pi is approximated to 4.0\n",
      "With 10 terms, pi is approximated to 3.0418396189294032\n",
      "With 100 terms, pi is approximated to 3.1315929035585537\n",
      "With 1000 terms, pi is approximated to 3.140592653839794\n",
      "With 10000 terms, pi is approximated to 3.1414926535900345\n",
      "With 100000 terms, pi is approximated to 3.1415826535897198\n",
      "With 1000000 terms, pi is approximated to 3.1415916535897743\n"
     ]
    }
   ],
   "source": [
    "# Solution\n",
    "\n",
    "def leibniz(n):\n",
    "    summation = 0\n",
    "    for i in range(n):\n",
    "        if i % 2 == 0:\n",
    "            summation += 1 / (2*i+1)\n",
    "        else:\n",
    "            summation -= 1 / (2*i+1)\n",
    "    return 4 * summation\n",
    "\n",
    "for i in [10**x for x in range(7)]:\n",
    "    print(\"With\", i, \"terms, pi is approximated to\", leibniz(i))"
   ]
  },
  {
   "cell_type": "markdown",
   "metadata": {},
   "source": [
    "### 小補充"
   ]
  },
  {
   "cell_type": "markdown",
   "metadata": {},
   "source": [
    "同學如果有接觸過微積分可能會發現：這其實是 $\\arctan$ 函數的泰勒展開式在 $x=1$ 時的情況！"
   ]
  },
  {
   "cell_type": "markdown",
   "metadata": {},
   "source": [
    "$$\\arctan x=x-{\\frac {x^{3}}{3}}+{\\frac {x^{5}}{5}}-{\\frac {x^{7}}{7}}+\\cdots.$$"
   ]
  }
 ],
 "metadata": {
  "kernelspec": {
   "display_name": "Python 3",
   "language": "python",
   "name": "python3"
  },
  "language_info": {
   "codemirror_mode": {
    "name": "ipython",
    "version": 3
   },
   "file_extension": ".py",
   "mimetype": "text/x-python",
   "name": "python",
   "nbconvert_exporter": "python",
   "pygments_lexer": "ipython3",
   "version": "3.6.4"
  }
 },
 "nbformat": 4,
 "nbformat_minor": 2
}
