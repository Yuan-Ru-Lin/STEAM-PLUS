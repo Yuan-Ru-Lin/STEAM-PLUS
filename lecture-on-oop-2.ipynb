{
 "cells": [
  {
   "cell_type": "markdown",
   "metadata": {},
   "source": [
    "## 字典（Dictionary）"
   ]
  },
  {
   "cell_type": "markdown",
   "metadata": {},
   "source": [
    "字典是一種資料型態，常用來保存有標籤-數值（key-value）對應關係的資料。\n",
    "\n",
    "我們可以在 Python 裡定義一個字典（dictionary）。這麼一來就能之後透過字串取得資料。\n",
    "\n",
    "### 小例子"
   ]
  },
  {
   "cell_type": "code",
   "execution_count": 15,
   "metadata": {},
   "outputs": [],
   "source": [
    "myDictionary = {'key1': 1, 'key2': 'data2', 4: 5}"
   ]
  },
  {
   "cell_type": "code",
   "execution_count": 16,
   "metadata": {
    "scrolled": true
   },
   "outputs": [
    {
     "data": {
      "text/plain": [
       "5"
      ]
     },
     "execution_count": 16,
     "metadata": {},
     "output_type": "execute_result"
    }
   ],
   "source": [
    "myDictionary[4]"
   ]
  },
  {
   "cell_type": "code",
   "execution_count": 17,
   "metadata": {},
   "outputs": [],
   "source": [
    "wang = {\n",
    "    'name': 'Wang Xiao-Ming',\n",
    "    'gender': 'M',\n",
    "    'grades': [90]\n",
    "}"
   ]
  },
  {
   "cell_type": "code",
   "execution_count": 18,
   "metadata": {},
   "outputs": [
    {
     "name": "stdout",
     "output_type": "stream",
     "text": [
      "Wang Xiao-Ming\n",
      "[90]\n"
     ]
    }
   ],
   "source": [
    "print(wang['name'])\n",
    "print(wang['grades'])"
   ]
  },
  {
   "cell_type": "markdown",
   "metadata": {},
   "source": [
    "---"
   ]
  },
  {
   "cell_type": "markdown",
   "metadata": {},
   "source": [
    "## 與資料互動"
   ]
  },
  {
   "cell_type": "markdown",
   "metadata": {},
   "source": [
    "### 案例一：增加成績數據"
   ]
  },
  {
   "cell_type": "code",
   "execution_count": 19,
   "metadata": {},
   "outputs": [],
   "source": [
    "wang['grades'].append(80)"
   ]
  },
  {
   "cell_type": "code",
   "execution_count": 20,
   "metadata": {},
   "outputs": [
    {
     "data": {
      "text/plain": [
       "[90, 80]"
      ]
     },
     "execution_count": 20,
     "metadata": {},
     "output_type": "execute_result"
    }
   ],
   "source": [
    "wang['grades']"
   ]
  },
  {
   "cell_type": "code",
   "execution_count": 22,
   "metadata": {},
   "outputs": [],
   "source": [
    "def addGrade(student, grade):\n",
    "    grades = student['grades']\n",
    "    grades.append(grade)"
   ]
  },
  {
   "cell_type": "code",
   "execution_count": 23,
   "metadata": {},
   "outputs": [],
   "source": [
    "addGrade(wang, 80)"
   ]
  },
  {
   "cell_type": "code",
   "execution_count": 24,
   "metadata": {
    "scrolled": true
   },
   "outputs": [
    {
     "data": {
      "text/plain": [
       "[90, 80, 80, 80]"
      ]
     },
     "execution_count": 24,
     "metadata": {},
     "output_type": "execute_result"
    }
   ],
   "source": [
    "wang['grades']"
   ]
  },
  {
   "cell_type": "markdown",
   "metadata": {},
   "source": [
    "### 案例二：自我介紹"
   ]
  },
  {
   "cell_type": "code",
   "execution_count": 25,
   "metadata": {},
   "outputs": [
    {
     "name": "stdout",
     "output_type": "stream",
     "text": [
      "Hi, I am Wang Xiao-Ming\n"
     ]
    }
   ],
   "source": [
    "def introduce(student):\n",
    "    print('Hi, I am ' + student['name'])\n",
    "\n",
    "introduce(wang)"
   ]
  },
  {
   "cell_type": "code",
   "execution_count": 31,
   "metadata": {},
   "outputs": [],
   "source": [
    "lin = {\n",
    "    'name': 'Lin Yuan-Ru',\n",
    "    'gender': 'M',\n",
    "    'grades': [70, 75]\n",
    "}"
   ]
  },
  {
   "cell_type": "code",
   "execution_count": 32,
   "metadata": {},
   "outputs": [
    {
     "name": "stdout",
     "output_type": "stream",
     "text": [
      "Hi, I am Lin Yuan-Ru\n"
     ]
    }
   ],
   "source": [
    "introduce(lin)"
   ]
  },
  {
   "cell_type": "markdown",
   "metadata": {},
   "source": [
    "### 問題 ###\n",
    "1. 需要固定標籤的格式\n",
    "2. 每次宣告學生都要加標籤\n",
    "2. 你可能會忘記標籤有哪些，或甚至加錯標籤\n",
    "3. 定義完字典變數後會不清楚變數到底是什麼，比方 `type(wang)` 只會給出 `dict`\n",
    "4. 函式可能被用在不一樣的場景，造成混淆"
   ]
  },
  {
   "cell_type": "code",
   "execution_count": 33,
   "metadata": {},
   "outputs": [
    {
     "data": {
      "text/plain": [
       "dict"
      ]
     },
     "execution_count": 33,
     "metadata": {},
     "output_type": "execute_result"
    }
   ],
   "source": [
    "type(lin)"
   ]
  },
  {
   "cell_type": "markdown",
   "metadata": {},
   "source": [
    "### 需求\n",
    "1. 統一管理資料的格式和相關的函式\n",
    "2. 最好可以被當成 Python 中的資料型態"
   ]
  },
  {
   "cell_type": "markdown",
   "metadata": {},
   "source": [
    "---"
   ]
  },
  {
   "cell_type": "markdown",
   "metadata": {},
   "source": [
    "## 解決方案——物件導向設計"
   ]
  },
  {
   "cell_type": "markdown",
   "metadata": {},
   "source": [
    "如果我們用上次學到的語法來調整上述的程式碼，則會有以下的變化：\n",
    "\n",
    "* `wang['name']` 會變成 `wang.name`\n",
    "* `wang['grades']` 會變成 `wang.grades`\n",
    "* `introduce(wang)` 會變成 `wang.introduce()`"
   ]
  },
  {
   "cell_type": "code",
   "execution_count": null,
   "metadata": {},
   "outputs": [],
   "source": [
    "wang = Student('Wang Xiao-Ming', [90])\n",
    "print(wang.name) # Should print out 'Wang Xiao-Ming'\n",
    "wang.introduce() # Should print out 'Hi, I am Wang Xiao-Ming!'\n",
    "lin = Student('Lin Yuan-Ru', [85])\n",
    "print(lin.name) # Should print out 'Lin Yuan-Ru'"
   ]
  },
  {
   "cell_type": "code",
   "execution_count": 36,
   "metadata": {},
   "outputs": [],
   "source": [
    "class Student:\n",
    "    \n",
    "    def __init__(self, name, grades):\n",
    "        self.name = name\n",
    "        self.grades = grades\n",
    "    \n",
    "    def introduce(self):\n",
    "        print(self.name)"
   ]
  },
  {
   "cell_type": "code",
   "execution_count": 42,
   "metadata": {},
   "outputs": [],
   "source": [
    "wang = Student('Wang Xiao-Ming', [90])"
   ]
  },
  {
   "cell_type": "code",
   "execution_count": 38,
   "metadata": {},
   "outputs": [
    {
     "name": "stdout",
     "output_type": "stream",
     "text": [
      "Wang Xiao-Ming\n"
     ]
    }
   ],
   "source": [
    "wang.introduce()"
   ]
  },
  {
   "cell_type": "code",
   "execution_count": 40,
   "metadata": {
    "scrolled": false
   },
   "outputs": [
    {
     "data": {
      "text/plain": [
       "[90]"
      ]
     },
     "execution_count": 40,
     "metadata": {},
     "output_type": "execute_result"
    }
   ],
   "source": [
    "wang.grades"
   ]
  },
  {
   "cell_type": "code",
   "execution_count": null,
   "metadata": {},
   "outputs": [],
   "source": [
    "# lin is an object such that\n",
    "lin.name = 'Lin Yuan-Ru'\n",
    "lin.grades = [90]\n",
    "\n",
    "# Hence the constructor should be something like\n",
    "student.name = input_name\n",
    "student.grades = input_grades"
   ]
  },
  {
   "cell_type": "markdown",
   "metadata": {},
   "source": [
    "## 另一個使用類（class）的好處：可讀性很好"
   ]
  },
  {
   "cell_type": "markdown",
   "metadata": {},
   "source": [
    "試著計算兩個二維向量的加法：\n",
    "\n",
    "$v_1 = (1, 2), v_2 = (3, 4)$\n",
    "\n",
    "請問 $v_3 = v_1 + v_2 = ?$"
   ]
  },
  {
   "cell_type": "code",
   "execution_count": 43,
   "metadata": {
    "scrolled": true
   },
   "outputs": [
    {
     "name": "stdout",
     "output_type": "stream",
     "text": [
      "v3 = (4, 6)\n"
     ]
    }
   ],
   "source": [
    "x1 = 1\n",
    "y1 = 2\n",
    "x2 = 3\n",
    "y2 = 4\n",
    "\n",
    "x3 = x1 + x2\n",
    "y3 = y1 + y2\n",
    "print(\"v3 = (\" + str(x3) + \", \" + str(y3) + \")\")"
   ]
  },
  {
   "cell_type": "code",
   "execution_count": 49,
   "metadata": {},
   "outputs": [],
   "source": [
    "class Vector:\n",
    "    \n",
    "    def __init__(self, x, y):\n",
    "        self.x = x\n",
    "        self.y = y\n",
    "    \n",
    "    def add(self, other):\n",
    "        newX = self.x + other.x\n",
    "        newY = self.y + other.y\n",
    "        return Vector(newX, newY)\n",
    "    \n",
    "    def printOut(self):\n",
    "        print('x-component is', self.x, '\\ny-component is', self.y)"
   ]
  },
  {
   "cell_type": "code",
   "execution_count": 50,
   "metadata": {},
   "outputs": [],
   "source": [
    "v1 = Vector(1, 2)\n",
    "v2 = Vector(3, 4)\n",
    "v3 = v1.add(v2)\n",
    "v3.printOut()"
   ]
  }
 ],
 "metadata": {
  "hide_input": false,
  "kernelspec": {
   "display_name": "Python 3",
   "language": "python",
   "name": "python3"
  },
  "language_info": {
   "codemirror_mode": {
    "name": "ipython",
    "version": 3
   },
   "file_extension": ".py",
   "mimetype": "text/x-python",
   "name": "python",
   "nbconvert_exporter": "python",
   "pygments_lexer": "ipython3",
   "version": "3.8.1"
  },
  "toc": {
   "base_numbering": 1,
   "nav_menu": {},
   "number_sections": true,
   "sideBar": true,
   "skip_h1_title": false,
   "title_cell": "Table of Contents",
   "title_sidebar": "Contents",
   "toc_cell": false,
   "toc_position": {},
   "toc_section_display": true,
   "toc_window_display": false
  }
 },
 "nbformat": 4,
 "nbformat_minor": 2
}
