{
 "cells": [
  {
   "cell_type": "code",
   "execution_count": 7,
   "metadata": {},
   "outputs": [],
   "source": [
    "import tkinter as tk"
   ]
  },
  {
   "cell_type": "code",
   "execution_count": 23,
   "metadata": {},
   "outputs": [],
   "source": [
    "count = 0\n",
    "def plusOneCount():\n",
    "    global count\n",
    "    count += 1\n",
    "    secondLabel.configure(text=str(count))"
   ]
  },
  {
   "cell_type": "code",
   "execution_count": 28,
   "metadata": {},
   "outputs": [],
   "source": [
    "def sevenMultiple():\n",
    "    x = int(myEntry.get())\n",
    "    if x % 7 == 0:\n",
    "        secondLabel.configure(text=\"Yes\")\n",
    "    else:\n",
    "        secondLabel.configure(text=\"No\")"
   ]
  },
  {
   "cell_type": "code",
   "execution_count": 29,
   "metadata": {},
   "outputs": [],
   "source": [
    "window = tk.Tk()\n",
    "window.title(\"My second app\")\n",
    "window.geometry(\"300x200\")\n",
    "\n",
    "myLabel = tk.Label(window, text=\"STEAM 201\")\n",
    "myLabel.pack()\n",
    "\n",
    "myEntry = tk.Entry(window)\n",
    "myEntry.pack()\n",
    "\n",
    "# myButton = tk.Button(window, text=\"I am a button!\", command=plusOneCount)\n",
    "# myButton.pack()\n",
    "\n",
    "myButton2 = tk.Button(window, text=\"See if a number is a multiple of 7\", command=sevenMultiple)\n",
    "myButton2.pack()\n",
    "\n",
    "secondLabel = tk.Label(window, text=\"\")\n",
    "secondLabel.pack()\n",
    "\n",
    "window.mainloop()"
   ]
  },
  {
   "cell_type": "markdown",
   "metadata": {},
   "source": [
    "假設有一個函數 $f, f(x) = x^2+5。$"
   ]
  },
  {
   "cell_type": "markdown",
   "metadata": {},
   "source": [
    "函數 $f$ 是一個偶函數。"
   ]
  }
 ],
 "metadata": {
  "hide_input": false,
  "kernelspec": {
   "display_name": "Python 3",
   "language": "python",
   "name": "python3"
  },
  "language_info": {
   "codemirror_mode": {
    "name": "ipython",
    "version": 3
   },
   "file_extension": ".py",
   "mimetype": "text/x-python",
   "name": "python",
   "nbconvert_exporter": "python",
   "pygments_lexer": "ipython3",
   "version": "3.8.1"
  },
  "toc": {
   "base_numbering": 1,
   "nav_menu": {},
   "number_sections": true,
   "sideBar": true,
   "skip_h1_title": false,
   "title_cell": "Table of Contents",
   "title_sidebar": "Contents",
   "toc_cell": false,
   "toc_position": {},
   "toc_section_display": true,
   "toc_window_display": false
  }
 },
 "nbformat": 4,
 "nbformat_minor": 4
}
